{
 "cells": [
  {
   "cell_type": "markdown",
   "metadata": {
    "slideshow": {
     "slide_type": "-"
    }
   },
   "source": [
    "Dokumentace k projektu \"API generátor pomocí FastAPI\"\n",
    "===================================================\n",
    "\n",
    "### Autoři:\n",
    "- [Lubos-source](https://github.com/Lubos-source)\n",
    "- [JanBeran8](https://github.com/JanBeran8)\n",
    "\n",
    "**Poznámka:** Tento dokument slouží jako návod k použití programu a stručné vysvětlení funkčnosti. \n",
    "\n",
    "Projekt se nachází pod MIT licencí."
   ]
  },
  {
   "cell_type": "markdown",
   "metadata": {},
   "source": [
    "Implementování projektu do vašeho PC + prvotní nastavení\n",
    "========================================================"
   ]
  },
  {
   "cell_type": "markdown",
   "metadata": {},
   "source": [
    "- Stáhněte(naklonujte) projekt z [GIThub uložiště](https://github.com/JanBeran8/Informatika-projekt-22-5KB)\n",
    "- Je nutné mít nainstalovaný a nastavený DOCKER jeho instalace je popsána [zde](https://docs.docker.com/get-docker/)\n",
    "- Otevřete složku APIgen, zvolte cestu instalace notebooku v souboru `.env`  a spusťte soubor `runCompose.bat`\n",
    "- V případě nenalezení souboru `.env` vytvořte tento soubor do kterého vložte `CD=C:\\APIgenProject\\jupy` a cestu libovolně upravte. Soubor se musí nacházet ve stejné složce, jako se nachází `runCompose.bat` !!\n",
    "- Po spuštění se do vašeho DOCKERU nastaví veškeré potřebné kontejnery (postgres, PGadmin, Jupyter + knihovny)\n",
    "- V dockeru otevřete Jupyter a vložte vygenerovaný token\n",
    "- Token k připojení se k Jupyteru notebooku najdete v konzoli jupyteru nebo v konzoli celého conteineru v dockeru\n",
    "- Po zadání tokenu najdete v adresáři */notebooks všechny potřebné soubory ke spuštění programu"
   ]
  },
  {
   "cell_type": "markdown",
   "metadata": {},
   "source": [
    "Spuštění a napojení na databázi\n",
    "==============================="
   ]
  },
  {
   "cell_type": "markdown",
   "metadata": {},
   "source": [
    "- V Jupyteru zvolte soubor `main` \n",
    "- Pod proměnou `knowndatabaze` se bude nacházet jméno vaší databáze, ke které se chcete připojit a získat její strukturu\n",
    "- V případě změny nastavení postgresu, změňte údaje `host` `user` `password`\n",
    "- Po spuštění kódu se přegenerují soubory `BaseModels` `Schemas` `FastAPIprog`\n",
    "- Tyhle soubory postupně zkopírujte a vložte do příslušných částí v notebooku `runFastAPI`"
   ]
  },
  {
   "cell_type": "markdown",
   "metadata": {
    "tags": []
   },
   "source": [
    "Spuštění FastAPI programu\n",
    "========================="
   ]
  },
  {
   "cell_type": "markdown",
   "metadata": {},
   "source": [
    "- V notebooku `runFastAPI` je **NUTNÉ doinstalovat jednu knihovnu pro funkčnost!** Hned první spustitelná buňka obsahuje příkaz k instalaci\n",
    "- Po nainstalování restartujte jádro (horní lišta v jupyteru)\n",
    "- Postupně spusťte všechny buňky v notebooku\n",
    "- Spustí se FastAPI, kde námi nadefinovaný port je [:8800](http://localhost:8800/docs)\n",
    "- Doporučení pro přehledné používání FastAPI zadejte za port do url : [/docs](http://localhost:8800/docs). Zde uvidíte všechny dostupné FastAPI příkazy k práci s databází a jejich dokumentaci."
   ]
  },
  {
   "cell_type": "markdown",
   "metadata": {
    "jupyter": {
     "outputs_hidden": false
    }
   },
   "source": [
    "Úpravy ze strany uživatele\n",
    "=========================="
   ]
  },
  {
   "cell_type": "markdown",
   "metadata": {},
   "source": [
    "Jelikož je program navržený aby byl použitelný na různé typy databází, nemůže vygenerovaný kód obsahovat speciální funkce a požadavky. Proto ze strany uživatele, který kód používá je zapotřebí požadované speciální funkce dopsat případně změnit funkčnost některých námi definovaných funkcí"
   ]
  },
  {
   "cell_type": "markdown",
   "metadata": {},
   "source": [
    "Doporučujeme neupravovat samotný `main` soubor, ale pouze vygenerované soubory."
   ]
  },
  {
   "cell_type": "markdown",
   "metadata": {},
   "source": [
    "Vysvětlení funkčnosti\n",
    "====================="
   ]
  },
  {
   "cell_type": "markdown",
   "metadata": {
    "tags": []
   },
   "source": [
    "### Program `main` : \n"
   ]
  },
  {
   "cell_type": "markdown",
   "metadata": {},
   "source": [
    "#### SQL požadavky\n",
    "Program pracuje v cyklech, kdy v první části prochází veškeré dostupná schémata datábaze (kromě základně vygenerovaných pro každou databázi).\n",
    "\n",
    "V druhé části ze všech vyhovujících schémat získává názvy jednotlivých tabulek v nich.\n",
    "\n",
    "Z každé nalezené tabulky získáme požadované informace o jednotlivých řádcích a nalezneme jestli tabulky obsahují požadované klíče, díky kterým postupujeme různými cestami zpracování takových tabulek a řádků.\n",
    "\n",
    "Tím jsme vysvětlili prvních 5 funkcí, které pomocí SQL(SELECT) příkazů voláme za použití definovaného \"kurzoru\" a provádíme výše popsané kroky. \n",
    "\n",
    "**vysvětlivka :** \n",
    "Kurzor, v aplikaci jako `db_cursor`, je \"pointer\", který se používá pro odesílání požadavků k SQL databázi. \n",
    "Aby mohl být kurzor správně použit musí být definovaný, na začátku aplikace otevřený a na konci uzavřený. \n",
    "Po otevření můžeme používat `execute` a `fetch` příkazy. Execute příkaz spustí daný textový řetězec (požadavek na databázi) a fetch uloží výsledek získaný z požadavku.\n"
   ]
  },
  {
   "cell_type": "markdown",
   "metadata": {},
   "source": [
    "#### Generování textových dokumentů:\n",
    "\n",
    "V aplikaci jsou 3 různé textové soubory, které je potřeba na začátku otevřít a nakonci zase uzavřít!\n",
    "\n",
    "- Soubor modelů v jupyteru jako `BaseModels` v main aplikaci pod proměnou `f` \n",
    "\n",
    "- Soubor schémat v jupyteru jako `Schemas` v main aplikaci pod proměnou `s`\n",
    "\n",
    "- Soubor FastAPI aplikace v jupyteru jako `FastAPIprog` v main aplikaci pod proměnou `a`\n",
    "\n",
    "První se vytvoří hlavičky v daných souborech. Zde jsou implementováný knihovny a například i potřebná funkce na spuštění FastAPI, které jsou pevně dané a není potřeba je prohánět cykly.\n",
    "\n",
    "Poté postupujeme dle daných požadavků pro správně syntaxovaný program.\n",
    "\n",
    "V souboru `BaseModels` vygenerujeme třídy s názvem jednotlivých tabulek v databázi a vygenerujeme definice pro jednotlivé řádky v nich + relationships.\n",
    "\n",
    "V souboru `Schemas` vygenerujeme třídy, které odpovídají CRUD operacím (Create, Read, Update, Delete). Ve kterých určíme jednotlivým řádkům jejich typy podle informací získaných z databáze.\n",
    "\n",
    "V souboru `FastAPIprog` kromě vygenerované funkce pro spuštění aplikace, vygenerujeme funkci, která bude obsahovat veškeré endpointy FastAPI aplikace. \n",
    "Endpointy máme vytvořené podle našeho uvážení, uživatel si chybějící endpointy dodefinuje. Případně nepotřebné vymaže.\n",
    "\n"
   ]
  },
  {
   "cell_type": "markdown",
   "metadata": {},
   "source": [
    "### Program `runFastAPI` : \n",
    "\n"
   ]
  },
  {
   "cell_type": "markdown",
   "metadata": {},
   "source": [
    "#### Vložení vygenerovaného kódu"
   ]
  },
  {
   "cell_type": "markdown",
   "metadata": {},
   "source": [
    "Po vložení vygenerovaných textových souborů do příslušných buněk spusťtě všechny postupně za sebou.\n",
    "\n",
    "Buňky BaseModels a Schemas vytvoří strukturu zkopírované databáze.\n",
    "\n",
    "Část FastAPI vytvoří endpointy a spustí aplikaci na portu [:8800](http://localhost:8800/docs)\n",
    "\n",
    "**GET endpoint:**\n",
    "\n",
    "Na základě zadaného parametru vyhledá a vrátí list všech prvků dané tabulky v databázi, které odpovídají zadaným parametrům.\n",
    "\n",
    "\n",
    "**GETALL endpoint:**\n",
    "\n",
    "Vrátí list všech prvků dané tabulky v databázi.\n",
    "\n",
    "\n",
    "**POST endpoint:**\n",
    "\n",
    "Po zadání veškerých potřebných údajů vytvoří nový prvek v tabulce dané databáze.\n",
    "\n",
    "\n",
    "**PUT endpoint:**\n",
    "\n",
    "Po zadání potřebých parametrů na základě ID porovná dva prvky a v případě odlišností daný prvek aktualizuje.\n",
    "\n",
    "\n",
    "**DELETE endpoint:**\n",
    "\n",
    "Vyhledá daný prvek v tabulce databáze podle ID a odstraní jej."
   ]
  },
  {
   "cell_type": "markdown",
   "metadata": {},
   "source": [
    "**Vypnutí FastAPI aplikace**\n",
    "\n",
    "Poslední nepojmenovaná buňka v souboru `runFastAPI` se zabývá správným vypnutím FastAPI aplikace.\n",
    "\n",
    "Před každým novým spuštěním je třeba aplikaci ukončit aby se uvolnil port pro znovu spuštění. Jinak nastane chyba a je třeba restartovat docker (conteiner)."
   ]
  },
  {
   "cell_type": "markdown",
   "metadata": {},
   "source": [
    "#### Příklad funkčnosti"
   ]
  },
  {
   "cell_type": "markdown",
   "metadata": {},
   "source": [
    "Zavolání příkazu :"
   ]
  },
  {
   "cell_type": "code",
   "execution_count": 37,
   "metadata": {
    "collapsed": false,
    "jupyter": {
     "outputs_hidden": false
    }
   },
   "outputs": [],
   "source": [
    "our_user = session.query(users).filter(users.name == 'TEST').first()"
   ]
  },
  {
   "cell_type": "markdown",
   "metadata": {},
   "source": [
    "Odpovídá SQL příkazu:\n",
    "\n",
    "\n",
    "*Query Select*\n",
    "\n",
    "```SQL\n",
    "SELECT users.id AS users_id,\n",
    "        users.name AS users_name,\n",
    "        users.fullname AS users_fullname,\n",
    "        users.password AS users_password\n",
    "FROM users\n",
    "WHERE users.name = 'TEST'\n",
    " LIMIT 1 OFFSET 0\n",
    "```"
   ]
  },
  {
   "cell_type": "markdown",
   "metadata": {},
   "source": [
    "Zavolaný příkaz najde v tabulce <i>users</i> prvního uživatele s jménem <i>TEST</i> a uloží ho do proměnné <i>our_user</i>, poté v případ get endpointu na základě response modelu vrátí nalezeného uživatele."
   ]
  },
  {
   "cell_type": "markdown",
   "metadata": {},
   "source": [
    "Budoucnost projektu\n",
    "==================="
   ]
  },
  {
   "cell_type": "markdown",
   "metadata": {},
   "source": [
    "Projekt je možné dále rozvíjet a vylepšovat v různých oblastech a funkcionalitách. \n",
    "\n",
    "Lze vylepšit a vymyslet algoritmy, díky kterým se generování struktury databáze více zpřesní a bude tak program použitelný pro více různých typů databází. \n",
    "\n",
    "Přidání možnosti výběru, které endpointy chce uživatel vytvořit a následně je vygenerovat namísto generování endpointů vhodných podle programátora. \n",
    "\n",
    "Doladění funkčnosti endpointů při chybně zadaném prvku / prázdném poli v databázy (např NULL), aby program přečetl vše kromě prázdného pole.\n",
    "\n"
   ]
  },
  {
   "cell_type": "markdown",
   "metadata": {},
   "source": [
    "Změnění update endpointu, aby ukazoval co se nacházelo před a co po změně.\n",
    "\n",
    "Lépe nastavit generování relationships, aby došlo ke správmému propojení mezi tabulkami a použít tyhle relationships u endpointů, které s nimi pracují například delete, aby šlo odstranit propojený prvek."
   ]
  },
  {
   "cell_type": "markdown",
   "metadata": {},
   "source": [
    "Doporučené odkazy\n",
    "=================\n",
    "\n",
    "[Vytvoření prvního FastAPI](https://www.youtube.com/watch?v=0RS9W8MtZe4)\n",
    "\n",
    "[SQL struktura databáze pro FastAPI](https://fastapi.tiangolo.com/tutorial/sql-databases/)\n",
    "\n",
    "[Popis SQL databáze parametry pro Column objekt](https://docs.sqlalchemy.org/en/13/core/metadata.html#sqlalchemy.schema.Column)\n",
    "\n",
    "[Python typing knihovna](https://docs.python.org/3.6/library/typing.html)\n",
    "\n",
    "[Získávání informací z PostgreSQL databáze](https://alberton.info/postgresql_meta_info.html)"
   ]
  },
  {
   "cell_type": "markdown",
   "metadata": {},
   "source": [
    "..."
   ]
  }
 ],
 "metadata": {
  "kernelspec": {
   "display_name": "Python 3",
   "language": "python",
   "name": "python3"
  },
  "language_info": {
   "codemirror_mode": {
    "name": "ipython",
    "version": 3
   },
   "file_extension": ".py",
   "mimetype": "text/x-python",
   "name": "python",
   "nbconvert_exporter": "python",
   "pygments_lexer": "ipython3",
   "version": "3.8.8"
  }
 },
 "nbformat": 4,
 "nbformat_minor": 4
}
