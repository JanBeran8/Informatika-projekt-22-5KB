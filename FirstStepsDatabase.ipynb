{
 "cells": [
  {
   "cell_type": "markdown",
   "id": "comparable-frederick",
   "metadata": {},
   "source": [
    "První pokusy\n"
   ]
  },
  {
   "cell_type": "code",
   "execution_count": 3,
   "id": "grave-seeker",
   "metadata": {},
   "outputs": [
    {
     "name": "stdout",
     "output_type": "stream",
     "text": [
      "Collecting psycopg2-binary\n",
      "  Downloading psycopg2_binary-2.8.6-cp38-cp38-manylinux1_x86_64.whl (3.0 MB)\n",
      "\u001b[K     |████████████████████████████████| 3.0 MB 4.7 MB/s eta 0:00:01     |████████                        | 737 kB 4.7 MB/s eta 0:00:01\n",
      "\u001b[?25hInstalling collected packages: psycopg2-binary\n",
      "Successfully installed psycopg2-binary-2.8.6\n",
      "Note: you may need to restart the kernel to use updated packages.\n"
     ]
    }
   ],
   "source": [
    "pip install psycopg2-binary\n"
   ]
  },
  {
   "cell_type": "code",
   "execution_count": 15,
   "id": "empirical-criticism",
   "metadata": {},
   "outputs": [
    {
     "name": "stdout",
     "output_type": "stream",
     "text": [
      "Requirement already satisfied: pip in /opt/conda/lib/python3.8/site-packages (21.0.1)\n",
      "Note: you may need to restart the kernel to use updated packages.\n"
     ]
    }
   ],
   "source": [
    "pip install -U pip"
   ]
  },
  {
   "cell_type": "code",
   "execution_count": 1,
   "id": "restricted-juice",
   "metadata": {},
   "outputs": [
    {
     "ename": "SyntaxError",
     "evalue": "invalid syntax (<ipython-input-1-73d796a36bfd>, line 3)",
     "output_type": "error",
     "traceback": [
      "\u001b[0;36m  File \u001b[0;32m\"<ipython-input-1-73d796a36bfd>\"\u001b[0;36m, line \u001b[0;32m3\u001b[0m\n\u001b[0;31m    pip list\u001b[0m\n\u001b[0m        ^\u001b[0m\n\u001b[0;31mSyntaxError\u001b[0m\u001b[0;31m:\u001b[0m invalid syntax\n"
     ]
    }
   ],
   "source": [
    "#NEJAKY ERROR ???? pred tim jelo a melo by jet !\n",
    "print('kontrola v listu')\n",
    "pip list"
   ]
  },
  {
   "cell_type": "markdown",
   "id": "paperback-bench",
   "metadata": {},
   "source": [
    "<l1>Kontrola knihovny</l1>\n",
    "\n",
    "<l2><b>Prvotni pripojeni k databazi (manualne) </b></l2>\n",
    "\n",
    "Pozdeji vytvorit config file s pripojenim - lepsi pri zmene databaze atd... <a href = https://www.postgresqltutorial.com/postgresql-python/connect/>(priklad, v 1/3 stranky) </a>"
   ]
  },
  {
   "cell_type": "code",
   "execution_count": 7,
   "id": "appointed-romania",
   "metadata": {},
   "outputs": [
    {
     "name": "stdout",
     "output_type": "stream",
     "text": [
      "Manual connecting to the PostgreSQL database...\n",
      "PostgreSQL database version:\n",
      "('PostgreSQL 13.2 (Debian 13.2-1.pgdg100+1) on x86_64-pc-linux-gnu, compiled by gcc (Debian 8.3.0-6) 8.3.0, 64-bit',)\n"
     ]
    }
   ],
   "source": [
    "import psycopg2\n",
    "\n",
    "print('Manual connecting to the PostgreSQL database...')\n",
    "conn = psycopg2.connect(\n",
    "    host=\"postgres\",\n",
    "    database=\"dvdrental\",\n",
    "    user=\"postgres\",\n",
    "    password=\"example\")\n",
    "\n",
    "# create a cursor\n",
    "cur = conn.cursor()\n",
    " \n",
    "# execute a statement\n",
    "print('PostgreSQL database version:')\n",
    "cur.execute('SELECT version()')\n",
    "\n",
    "# display the PostgreSQL database server version\n",
    "db_version = cur.fetchone() #fetchone()->metoda\n",
    "print(db_version)\n",
    "\n",
    "# close the communication with the PostgreSQL\n",
    "cur.close()\n"
   ]
  },
  {
   "cell_type": "markdown",
   "id": "recorded-estate",
   "metadata": {},
   "source": [
    "<b> Ukonceni spojeni s databazi </b>"
   ]
  },
  {
   "cell_type": "code",
   "execution_count": 8,
   "id": "successful-fantasy",
   "metadata": {},
   "outputs": [
    {
     "name": "stdout",
     "output_type": "stream",
     "text": [
      "Database connection closed.\n"
     ]
    }
   ],
   "source": [
    "conn.close()\n",
    "print('Database connection closed.')"
   ]
  },
  {
   "cell_type": "markdown",
   "id": "disciplinary-victoria",
   "metadata": {},
   "source": [
    "<b> Zkouska vytvoreni tabulky PANDA z dat SQL databaze na pgAdmin postgressu</b>"
   ]
  },
  {
   "cell_type": "code",
   "execution_count": 6,
   "id": "worldwide-globe",
   "metadata": {},
   "outputs": [
    {
     "name": "stdout",
     "output_type": "stream",
     "text": [
      "Manual connecting to the PostgreSQL database...\n",
      "     actor_id first_name     last_name\n",
      "0           1   Penelope       Guiness\n",
      "1           2       Nick      Wahlberg\n",
      "2           3         Ed         Chase\n",
      "3           4   Jennifer         Davis\n",
      "4           5     Johnny  Lollobrigida\n",
      "..        ...        ...           ...\n",
      "195       196       Bela        Walken\n",
      "196       197      Reese          West\n",
      "197       198       Mary        Keitel\n",
      "198       199      Julia       Fawcett\n",
      "199       200      Thora        Temple\n",
      "\n",
      "[200 rows x 3 columns]\n",
      "------FILMY------TEST------\n",
      "\n",
      "     film_id              title  release_year\n",
      "0          1   Academy Dinosaur          2006\n",
      "1          2     Ace Goldfinger          2006\n",
      "2          3   Adaptation Holes          2006\n",
      "3          4   Affair Prejudice          2006\n",
      "4          5        African Egg          2006\n",
      "..       ...                ...           ...\n",
      "995      996     Young Language          2006\n",
      "996      997         Youth Kick          2006\n",
      "997      998       Zhivago Core          2006\n",
      "998      999  Zoolander Fiction          2006\n",
      "999     1000          Zorro Ark          2006\n",
      "\n",
      "[1000 rows x 3 columns]\n"
     ]
    }
   ],
   "source": [
    "import psycopg2\n",
    "import pandas as pd\n",
    "\n",
    "print('Manual connecting to the PostgreSQL database...')\n",
    "conn = psycopg2.connect(\n",
    "    host=\"postgres\",\n",
    "    database=\"dvdrental\",\n",
    "    user=\"postgres\",\n",
    "    password=\"example\")\n",
    "\n",
    "# create a cursor\n",
    "cur = conn.cursor()\n",
    "\n",
    "# A function that takes in a PostgreSQL query and outputs a pandas database\n",
    "def create_pandas_table(sql_query, database = conn):\n",
    "    table = pd.read_sql_query(sql_query, database)\n",
    "    return table\n",
    " \n",
    "# Utilize the create_pandas_table function to create a Pandas data frame\n",
    "# Store the data as a variable\n",
    "actor_info = create_pandas_table(\"SELECT actor_id, first_name, last_name FROM actor ORDER BY actor_id\")\n",
    "actor_info\n",
    "\n",
    "film_info = create_pandas_table(\"SELECT film_id, title, release_year FROM film ORDER BY title\") \n",
    "#film_info\n",
    "\n",
    "# close the communication with the PostgreSQL\n",
    "cur.close()\n",
    "conn.close()\n",
    "\n",
    "print (actor_info)\n",
    "print('------FILMY------TEST------\\n')\n",
    "print(film_info[:1000])"
   ]
  },
  {
   "cell_type": "code",
   "execution_count": null,
   "id": "mechanical-advancement",
   "metadata": {},
   "outputs": [],
   "source": []
  },
  {
   "cell_type": "markdown",
   "id": "neutral-baptist",
   "metadata": {},
   "source": [
    "<b> FAST API ????</b>\n"
   ]
  },
  {
   "cell_type": "markdown",
   "id": "sensitive-pitch",
   "metadata": {},
   "source": [
    "Pro splnění aby nebyl přistup jen z root adresáře:\n",
    "    "
   ]
  },
  {
   "cell_type": "code",
   "execution_count": 28,
   "id": "growing-mistress",
   "metadata": {},
   "outputs": [],
   "source": [
    "from fastapi import FastAPI, Request\n",
    "\n",
    "app = FastAPI()\n",
    "@app.get(\"/\")\n",
    "async def root():\n",
    "    return {\"message\" : \"Hello world\"}\n",
    "\n",
    "@app.get(\"/items/{item_id}\")\n",
    "async def read_item(item_id: int):\n",
    "    return {\"item_id\": item_id}\n",
    "\n",
    "\n",
    "apiapp = FastAPI()\n",
    "\n",
    "@apiapp.get(\"/items/{item_id}\")\n",
    "async def apif_read_item(item_id: int):\n",
    "    return {\"item_id\": item_id}\n",
    "\n",
    "@apiapp.get(\"/\")\n",
    "async def apif_root():\n",
    "    return {\"message\": \"Hello world\"}\n",
    "\n",
    "app.mount('/apif', apiapp)"
   ]
  },
  {
   "cell_type": "markdown",
   "id": "metallic-carry",
   "metadata": {},
   "source": [
    "<b>FAST api TESTOVÁNÍ jak to funguje </b>"
   ]
  },
  {
   "cell_type": "code",
   "execution_count": 4,
   "id": "close-chair",
   "metadata": {},
   "outputs": [
    {
     "name": "stdout",
     "output_type": "stream",
     "text": [
      "Requirement already satisfied: uvicorn in /opt/conda/lib/python3.8/site-packages (0.13.4)\n",
      "Requirement already satisfied: h11>=0.8 in /opt/conda/lib/python3.8/site-packages (from uvicorn) (0.12.0)\n",
      "Requirement already satisfied: click==7.* in /opt/conda/lib/python3.8/site-packages (from uvicorn) (7.1.2)\n",
      "Requirement already satisfied: fastapi in /opt/conda/lib/python3.8/site-packages (0.63.0)\n",
      "Requirement already satisfied: starlette==0.13.6 in /opt/conda/lib/python3.8/site-packages (from fastapi) (0.13.6)\n",
      "Requirement already satisfied: pydantic<2.0.0,>=1.0.0 in /opt/conda/lib/python3.8/site-packages (from fastapi) (1.8.1)\n",
      "Requirement already satisfied: typing-extensions>=3.7.4.3 in /opt/conda/lib/python3.8/site-packages (from pydantic<2.0.0,>=1.0.0->fastapi) (3.7.4.3)\n"
     ]
    }
   ],
   "source": [
    "!pip install uvicorn\n",
    "!pip install fastapi"
   ]
  },
  {
   "cell_type": "code",
   "execution_count": 24,
   "id": "blond-azerbaijan",
   "metadata": {},
   "outputs": [],
   "source": [
    "#spusteni FASTApi\n",
    "\n",
    "import uvicorn\n",
    "from fastapi import FastAPI\n",
    "\n",
    "app = FastAPI()#root_path='/api') #vytovreni app\n",
    "\n",
    "def run(): #funkce spusteni\n",
    "    uvicorn.run(app, port=9992, host='0.0.0.0', root_path='')  #HOST je NUTNY PARAMETR !!! "
   ]
  },
  {
   "cell_type": "code",
   "execution_count": 25,
   "id": "chubby-ribbon",
   "metadata": {},
   "outputs": [],
   "source": [
    "# Code in this cell is just for (re)starting the API on a Process, and other compatibility stuff with Jupyter cells.\n",
    "# Just ignore it!\n",
    "\n",
    "from multiprocessing import Process\n",
    "from wait4it import wait_for\n",
    "\n",
    "_api_process = None\n",
    "\n",
    "def start_api(runNew=True):\n",
    "    \"\"\"Stop the API if running; Start the API; Wait until API (port) is available (reachable)\"\"\"\n",
    "    global _api_process\n",
    "    if _api_process:\n",
    "        _api_process.terminate()\n",
    "        _api_process.join()\n",
    "    \n",
    "    if runNew:\n",
    "        _api_process = Process(target=run, daemon=True)\n",
    "        _api_process.start()\n",
    "        wait_for(port=9992)\n",
    "\n",
    "def delete_route(method: str, path: str):\n",
    "    \"\"\"Delete the given route from the API. This must be called on cells that re-define a route\"\"\"\n",
    "    [app.routes.remove(route) for route in app.routes if method in route.methods and route.path == path]\n",
    "    "
   ]
  },
  {
   "cell_type": "code",
   "execution_count": 26,
   "id": "upset-announcement",
   "metadata": {},
   "outputs": [],
   "source": [
    "def delete_all_routes():\n",
    "    rr = [*app.routes]\n",
    "    for item in rr:\n",
    "        app.routes.remove(item)"
   ]
  },
  {
   "cell_type": "code",
   "execution_count": 30,
   "id": "flexible-review",
   "metadata": {},
   "outputs": [
    {
     "name": "stderr",
     "output_type": "stream",
     "text": [
      "INFO:     Started server process [160]\n",
      "INFO:     Waiting for application startup.\n",
      "INFO:     Application startup complete.\n",
      "INFO:     Uvicorn running on http://0.0.0.0:9992 (Press CTRL+C to quit)\n"
     ]
    },
    {
     "name": "stdout",
     "output_type": "stream",
     "text": [
      "INFO:     172.18.0.1:37916 - \"GET /docs HTTP/1.1\" 200 OK\n",
      "INFO:     172.18.0.1:37916 - \"GET /openapi.json HTTP/1.1\" 200 OK\n",
      "INFO:     172.18.0.1:37914 - \"GET /items/5 HTTP/1.1\" 200 OK\n",
      "INFO:     172.18.0.1:37936 - \"GET /docs HTTP/1.1\" 200 OK\n",
      "INFO:     172.18.0.1:37936 - \"GET / HTTP/1.1\" 200 OK\n",
      "INFO:     172.18.0.1:37942 - \"GET /api HTTP/1.1\" 200 OK\n",
      "INFO:     172.18.0.1:37952 - \"GET /items/4 HTTP/1.1\" 200 OK\n",
      "INFO:     172.18.0.1:37960 - \"GET /items/sas HTTP/1.1\" 422 Unprocessable Entity\n",
      "INFO:     172.18.0.1:37974 - \"GET / HTTP/1.1\" 200 OK\n"
     ]
    },
    {
     "name": "stderr",
     "output_type": "stream",
     "text": [
      "INFO:     Shutting down\n",
      "INFO:     Waiting for application shutdown.\n",
      "INFO:     Application shutdown complete.\n",
      "INFO:     Finished server process [160]\n"
     ]
    }
   ],
   "source": [
    "# TEST deklarace ENDpointů\n",
    "\n",
    "@app.get(\"/api\")\n",
    "def get_root(): \n",
    "    return {\"Hello\": \"World\"}\n",
    "\n",
    "@app.get(\"/items/{item_id}\")\n",
    "async def read_item(item_id: int):\n",
    "    return {\"item_id\": item_id}\n",
    "\n",
    "apiapp = FastAPI()\n",
    "\n",
    "@apiapp.get(\"/items/{item_id}\")\n",
    "async def apif_read_item(item_id: int):\n",
    "    return {\"item_id\": item_id}\n",
    "\n",
    "@apiapp.get(\"/\")\n",
    "async def apif_root():\n",
    "    return {\"message\": \"Hello world\"}\n",
    "\n",
    "app.mount('/apif', apiapp)\n",
    "\n",
    "start_api() # samotne spusteni"
   ]
  },
  {
   "cell_type": "code",
   "execution_count": 31,
   "id": "improving-substitute",
   "metadata": {},
   "outputs": [],
   "source": [
    "start_api(False) #zastaveni serveru"
   ]
  },
  {
   "cell_type": "code",
   "execution_count": null,
   "id": "acoustic-spare",
   "metadata": {},
   "outputs": [],
   "source": []
  }
 ],
 "metadata": {
  "kernelspec": {
   "display_name": "Python 3",
   "language": "python",
   "name": "python3"
  },
  "language_info": {
   "codemirror_mode": {
    "name": "ipython",
    "version": 3
   },
   "file_extension": ".py",
   "mimetype": "text/x-python",
   "name": "python",
   "nbconvert_exporter": "python",
   "pygments_lexer": "ipython3",
   "version": "3.8.8"
  }
 },
 "nbformat": 4,
 "nbformat_minor": 5
}
